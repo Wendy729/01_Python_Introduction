{
 "cells": [
  {
   "cell_type": "markdown",
   "metadata": {
    "ExecuteTime": {
     "end_time": "2021-07-20T09:16:22.081113Z",
     "start_time": "2021-07-20T09:16:22.072320Z"
    }
   },
   "source": [
    "&emsp;&emsp;&emsp;&emsp;&emsp;&emsp;&emsp;&emsp; **JLUFE**  &emsp;&emsp;&emsp;&emsp;&emsp;&emsp;&emsp;&emsp;&emsp;&emsp;&emsp;&emsp;&emsp;&emsp;&emsp;&emsp;&emsp;&emsp;&emsp;&emsp;&emsp;&emsp;&emsp;&emsp;&emsp;&emsp;&emsp;&emsp;&emsp;&emsp;&emsp;&emsp;&emsp;&ensp;**Fall 2021(Sep-Jan)**  \n",
    "\n",
    "\n",
    "**<div align=\"center\">Homework Assignment Report</div>**\n",
    "<br>\n",
    "\n",
    "**<div align=\"center\">JILIN UNIVERSITY OF FINANCE AND ECONOMICS</div>**\n",
    "<br>\n",
    "\n",
    "**<div align=\"center\"><span style=\"color:blue\">School of International Exchange</span></div>**\n",
    "\n",
    "**<div align=\"center\">BSc in <span style=\"color:blue\">Bachelor degree in e-commerce</span></div>**\n",
    "\n",
    "**<div align=\"center\">(2021)</div>**\n",
    "\n",
    "<br> \n",
    "\n",
    "**<div align=\"center\">MODULE: Intelligent Technology</div>**\n",
    "\n",
    "**<div align=\"center\">Homework Assignment: 02</div>**\n",
    "\n",
    "**<div align=\"center\">Data Types (String, List, Tuple, Sets, Dictionary)</div>**\n",
    "\n",
    "**<div align=\"center\">23/09/2021</div>**\n",
    "\n",
    "<br>\n",
    "\n",
    "**<div align=\"center\">Submitted by:</div>**\n",
    "\n",
    "**<div align=\"center\"><span style=\"color:blue\">Wendy(陈芃佳) 0318031902145 (1921)</span></div>**\n",
    "**<div align=\"center\">QQ: <span style=\"color:blue\">1692677159 </span> | Github ID: <span style=\"color:blue\">Wendy729</span></div>**"
   ]
  },
  {
   "cell_type": "markdown",
   "metadata": {},
   "source": [
    "# Instructions: \n",
    "\n",
    "\n",
    "1. I have added tips and required learning resources for each question, which helps you to solve the problems. \n",
    "\n",
    "2. Finish the assignment on your **OWN**. **<span style=\"color:red\">Any student find copying/sharing from classmates or internet will get '0' points!!!</span>**\n",
    "\n",
    "3. After <span class='label label-default'>Accepting this assignment</span> from ➞ **[GitHub Clasroom link](https://classroom.github.com/a/cXdhullE)**, Github will create private repository of the assignment in your GitHub Classroom account.\n",
    "\n",
    "4. In your repository <span class='label label-default'>Clone</span> ➞ <span class='label label-default'>Download ZIP</span> in your computer.\n",
    "\n",
    "5. Change your ➞ **College**, **Major**, **Name**, **Student number**, **Class number**, **QQ number** and **GitHub ID**\n",
    "\n",
    "6. Once you finish the Assignment **[convert your .ipynb file into PDF](https://github.com/milaan9/91_Python_Mini_Projects/tree/main/001_Convert_IPython_to_PDF)** (both **.ipynb** and **.pdf** file will be required!)\n",
    "\n",
    "7. To submit your assignment, go to GitHub Classroom repository and <span class='label label-default'>Add file</span> ➞ <span class='label label-default'>Upload files</span> ➞ <span class='label label-default'>Commit changes</span>\n",
    "    1. Replace the question (**.ipynb**) file with your solution (**.ipynb**) file.\n",
    "    2. Also, upload (**.pdf**) converted file of your solution (**.ipynb**) file."
   ]
  },
  {
   "cell_type": "markdown",
   "metadata": {},
   "source": [
    "# Python Assignment 02"
   ]
  },
  {
   "cell_type": "markdown",
   "metadata": {},
   "source": [
    "# Part A ➞ Operators <span class='label label-default'>Level 1</span>\n",
    "\n",
    ">**Note:** Please create new cell for each question"
   ]
  },
  {
   "cell_type": "markdown",
   "metadata": {},
   "source": [
    "1. Declare your age as integer variable\n",
    "2. Declare your height as a float variable\n",
    "3. Declare a variable that store a complex number\n",
    "4. Write a code by taking user **[input()](https://github.com/milaan9/04_Python_Functions/blob/main/002_Python_Functions_Built_in/032_Python_input%28%29.ipynb)** to enter base and height of the triangle and calculate an area of this triangle ($area = 0.5 * a * b$) and the perimeter of the triangle ($perimeter = a + b + c$).\n",
    "\n",
    "    - ```py\n",
    "    Enter base: 20\n",
    "    Enter height: 10\n",
    "    The area of the triangle is 100\n",
    "    The perimeter of the triangle is 12\n",
    "    ```\n",
    "\n",
    "5. Calculate the value of **`y`**: ($y = x^2 + 6x + 9$). Try to use different **`x`** values and figure out at what **`x`** value **`y`** is going to be 0.\n",
    "6. Find the length of **`'python'`** and **`'datascience'`** and compare if the length are same using **`==`**.\n",
    "7. Use **`and`** operator to check if **`on`** is found in both **`python`** and **`cannon`**\n",
    "8. **`I hope this course is not full of jargon`**. Use **`in`** operator to check if **`jargon`** is in the sentence.\n",
    "9. There is no **`on`** in both **`python`** and **`cannon`**\n",
    "10. Find the length of the text **`python`** and convert the value to float and convert it to string\n",
    "11. Even numbers are divisible by 2 and the remainder is zero. How do you check if a number is even or not using python?\n",
    "12. Check if the floor division of 7 by 3 is equal to the int converted value of 2.7.\n",
    "13. Check if type of **\"10\"** is equal to type of 10\n",
    "14. Write a code that prompts the user to enter hours and rate per hour. Calculate pay of the person?\n",
    "\n",
    "    - ```py\n",
    "Enter hours: 40\n",
    "Enter rate per hour: 30\n",
    "Your weekly earning is 1200\n",
    "    ```\n",
    "\n",
    "15. Write a script that prompts the user to enter number of years. Calculate the number of seconds a person can live. Assume a person can live hundred years\n",
    "\n",
    "    - ```py\n",
    "Enter number of years you have lived: 100\n",
    "You have lived for 3153600000 seconds.\n",
    "    ```\n",
    "\n",
    "16. Write a Python code that displays the following table **using operators**\n",
    "\n",
    "    - ```py\n",
    "1 2 3 4 5  \n",
    "2 4 6 8 10\n",
    "3 6 9 12 15\n",
    "4 8 12 16 20\n",
    "5 10 15 20 25\n",
    "    ```"
   ]
  },
  {
   "cell_type": "code",
   "execution_count": 2,
   "metadata": {},
   "outputs": [
    {
     "name": "stdout",
     "output_type": "stream",
     "text": [
      "20\n",
      "1.63\n",
      "(1+2j)\n"
     ]
    }
   ],
   "source": [
    "# Solution: \n",
    "#1-3\n",
    "age= 20\n",
    "print(age)\n",
    "height=1.63\n",
    "print(height)\n",
    "c=1+2j\n",
    "print(c)\n"
   ]
  },
  {
   "cell_type": "code",
   "execution_count": null,
   "metadata": {},
   "outputs": [],
   "source": [
    "a=int(input(\"Enter base value:\"))\n",
    "b=int(input(\"Enter height value:\"))\n",
    "area=(0.5*a*b)\n",
    "print(area)\n",
    "a=int(input(\"Enter value:\"))\n",
    "b=int(input(\"Enter value:\"))\n",
    "c=int(input(\"Enter value:\"))\n",
    "perimeter=a+b+c\n",
    "print(perimeter)"
   ]
  },
  {
   "cell_type": "code",
   "execution_count": 6,
   "metadata": {},
   "outputs": [
    {
     "name": "stdout",
     "output_type": "stream",
     "text": [
      "a：1\n",
      "b：6\n",
      "c：9\n",
      "x1=x2=-3.00\n"
     ]
    }
   ],
   "source": [
    "import math\n",
    "a=int(input(\"a：\"));\n",
    "b=int(input(\"b：\"));\n",
    "c=int(input(\"c：\"));\n",
    "d=b*b-4*a*c;\n",
    "if a==0:\n",
    "    if b!=0:\n",
    "        print(\"x=%0.2f\"%(-c/b));\n",
    "    else:\n",
    "        print(\"none\");\n",
    "else:\n",
    "    if d==0:\n",
    "        print(\"x1=x2=%0.2f\"%(-b/2/a));\n",
    "    else:\n",
    "        if d>0:\n",
    "            x1=-b+math.sqrt(d)/2/a;\n",
    "            x2=-b-math.sqrt(d)/2/a;\n",
    "            print(\"x1=%0.2f\"%x1);\n",
    "            print(\"x2=%0.2f\"%x2);\n",
    "        else:\n",
    "            print(\"virtual root\");"
   ]
  },
  {
   "cell_type": "code",
   "execution_count": 2,
   "metadata": {},
   "outputs": [
    {
     "name": "stdout",
     "output_type": "stream",
     "text": [
      "6\n",
      "11\n"
     ]
    },
    {
     "data": {
      "text/plain": [
       "False"
      ]
     },
     "execution_count": 2,
     "metadata": {},
     "output_type": "execute_result"
    }
   ],
   "source": [
    "a=\"python\"\n",
    "print(len(a))\n",
    "b=\"datascience\"\n",
    "print(len(b))\n",
    "a==b"
   ]
  },
  {
   "cell_type": "code",
   "execution_count": 20,
   "metadata": {},
   "outputs": [
    {
     "name": "stdout",
     "output_type": "stream",
     "text": [
      "yes\n"
     ]
    }
   ],
   "source": [
    "a=\"on\"\n",
    "b=\"python\"\n",
    "c=\"cannon\"\n",
    "if a in b and a  in c:\n",
    "    print ('yes')\n",
    "else:\n",
    "    print('no')"
   ]
  },
  {
   "cell_type": "code",
   "execution_count": 17,
   "metadata": {},
   "outputs": [
    {
     "name": "stdout",
     "output_type": "stream",
     "text": [
      "yes\n"
     ]
    }
   ],
   "source": [
    "a=\"I hope this course is not full of jargon\"\n",
    "if 'jargon' in a:\n",
    "    print ('yes')\n"
   ]
  },
  {
   "cell_type": "code",
   "execution_count": 21,
   "metadata": {},
   "outputs": [
    {
     "name": "stdout",
     "output_type": "stream",
     "text": [
      "yes\n"
     ]
    }
   ],
   "source": [
    "a=\"on\"\n",
    "b=\"python\"\n",
    "c=\"cannon\"\n",
    "if a in b and a  in c:\n",
    "    print ('yes')\n",
    "else:\n",
    "    print('no')"
   ]
  },
  {
   "cell_type": "code",
   "execution_count": 8,
   "metadata": {},
   "outputs": [
    {
     "name": "stdout",
     "output_type": "stream",
     "text": [
      "6\n",
      "6.0\n"
     ]
    },
    {
     "ename": "TypeError",
     "evalue": "'str' object is not callable",
     "output_type": "error",
     "traceback": [
      "\u001b[1;31m---------------------------------------------------------------------------\u001b[0m",
      "\u001b[1;31mTypeError\u001b[0m                                 Traceback (most recent call last)",
      "\u001b[1;32m<ipython-input-8-1254025cf8e0>\u001b[0m in \u001b[0;36m<module>\u001b[1;34m\u001b[0m\n\u001b[0;32m      3\u001b[0m \u001b[0mprint\u001b[0m\u001b[1;33m(\u001b[0m\u001b[0mlength\u001b[0m\u001b[1;33m)\u001b[0m\u001b[1;33m\u001b[0m\u001b[1;33m\u001b[0m\u001b[0m\n\u001b[0;32m      4\u001b[0m \u001b[0mprint\u001b[0m\u001b[1;33m(\u001b[0m\u001b[0mfloat\u001b[0m\u001b[1;33m(\u001b[0m\u001b[0mlength\u001b[0m\u001b[1;33m)\u001b[0m\u001b[1;33m)\u001b[0m\u001b[1;33m\u001b[0m\u001b[1;33m\u001b[0m\u001b[0m\n\u001b[1;32m----> 5\u001b[1;33m \u001b[0mprint\u001b[0m\u001b[1;33m(\u001b[0m\u001b[0mstr\u001b[0m\u001b[1;33m(\u001b[0m\u001b[0mlength\u001b[0m\u001b[1;33m)\u001b[0m\u001b[1;33m)\u001b[0m\u001b[1;33m\u001b[0m\u001b[1;33m\u001b[0m\u001b[0m\n\u001b[0m",
      "\u001b[1;31mTypeError\u001b[0m: 'str' object is not callable"
     ]
    }
   ],
   "source": [
    "str1=\"python\"\n",
    "length=len(str1)\n",
    "print(length)\n",
    "print(float(length))\n",
    "print(str(length))"
   ]
  },
  {
   "cell_type": "code",
   "execution_count": null,
   "metadata": {},
   "outputs": [],
   "source": [
    "n=int(input('Enter the number: '))\n",
    "if n%2==0:\n",
    "    print('{} is even number'.format(n))"
   ]
  },
  {
   "cell_type": "code",
   "execution_count": 2,
   "metadata": {},
   "outputs": [
    {
     "name": "stdout",
     "output_type": "stream",
     "text": [
      "2.3333333333333335\n"
     ]
    },
    {
     "data": {
      "text/plain": [
       "False"
      ]
     },
     "execution_count": 2,
     "metadata": {},
     "output_type": "execute_result"
    }
   ],
   "source": [
    "a=7\n",
    "b=3\n",
    "c = a / b\n",
    "print (c)\n",
    "c==\"2.3\""
   ]
  },
  {
   "cell_type": "code",
   "execution_count": 6,
   "metadata": {},
   "outputs": [
    {
     "data": {
      "text/plain": [
       "int"
      ]
     },
     "execution_count": 6,
     "metadata": {},
     "output_type": "execute_result"
    }
   ],
   "source": [
    "type(10)"
   ]
  },
  {
   "cell_type": "code",
   "execution_count": 8,
   "metadata": {},
   "outputs": [
    {
     "data": {
      "text/plain": [
       "str"
      ]
     },
     "execution_count": 8,
     "metadata": {},
     "output_type": "execute_result"
    }
   ],
   "source": [
    "type('10')"
   ]
  },
  {
   "cell_type": "code",
   "execution_count": null,
   "metadata": {},
   "outputs": [],
   "source": [
    "a=int(input(\"Enter hours:\"))\n",
    "b=int(input(\"Enter rate per hour:\"))\n",
    "c=a*b\n",
    "print(\"Your weekly earning is\",c)"
   ]
  },
  {
   "cell_type": "code",
   "execution_count": 2,
   "metadata": {},
   "outputs": [
    {
     "name": "stdout",
     "output_type": "stream",
     "text": [
      "Enter number of years you have lived:100\n",
      "You have lived for  3153600000 seconds\n"
     ]
    }
   ],
   "source": [
    "a=int(input(\"Enter number of years you have lived:\"))\n",
    "Day_Per_Year = 365\n",
    "Hours_Per_Day = 24\n",
    "Minutes_Per_Hour = 60\n",
    "Seconds_Per_Minute = 60\n",
    "sum = Day_Per_Year * Hours_Per_Day * Minutes_Per_Hour * Seconds_Per_Minute\n",
    "c=a*sum\n",
    "print(\"You have lived for \",c,\"seconds\")"
   ]
  },
  {
   "cell_type": "code",
   "execution_count": 1,
   "metadata": {
    "scrolled": true
   },
   "outputs": [
    {
     "name": "stdout",
     "output_type": "stream",
     "text": [
      "\n",
      "\n",
      "\n",
      "\n",
      "\n"
     ]
    }
   ],
   "source": [
    "for i in range (1,6):\n",
    "    for j in range (1,6):\n",
    "        print(end=(\"\"))\n",
    "    print(\"\")"
   ]
  },
  {
   "cell_type": "markdown",
   "metadata": {},
   "source": [
    "# Part B ➞ String <span class='label label-default'>Level 1</span>\n",
    "\n",
    ">**Note:** Please create new cell for each question"
   ]
  },
  {
   "cell_type": "markdown",
   "metadata": {},
   "source": [
    "1. Concatenate the string **`Python`**, **`4`**, **`Data`**, **`Science`** to a single string, **`Python 4 Data Science`**.\n",
    "\n",
    "2. Declare a variable named **`course`** and assign it to an initial value **`Python 4 Data Science`**.\n",
    "\n",
    "3. Print the length of the **`course`** string using **[len()](https://github.com/milaan9/04_Python_Functions/blob/main/002_Python_Functions_Built_in/040_Python_len%28%29.ipynb)** method and **[print()](https://github.com/milaan9/04_Python_Functions/blob/main/002_Python_Functions_Built_in/051_Python_print%28%29.ipynb)**.\n",
    "\n",
    "4. Change all the characters of variable company to uppercase and lowercase letters using **[upper()](https://github.com/milaan9/02_Python_Datatypes/blob/main/002_Python_String_Methods/026_Python_String_upper%28%29.ipynb)** and **[lower()](https://github.com/milaan9/02_Python_Datatypes/blob/main/002_Python_String_Methods/025_Python_String_lower%28%29.ipynb)** method.\n",
    "\n",
    "5. Use **[capitalize()](https://github.com/milaan9/02_Python_Datatypes/blob/main/002_Python_String_Methods/001_Python_String_capitalize%28%29.ipynb)**, **[title()](https://github.com/milaan9/02_Python_Datatypes/blob/main/002_Python_String_Methods/042_Python_String_title%28%29.ipynb)**, **[swapcase()](https://github.com/milaan9/02_Python_Datatypes/blob/main/002_Python_String_Methods/027_Python_String_swapcase%28%29.ipynb)** methods to format the value of the string **`Python 4 Data Science`**.\n",
    "\n",
    "6. Cut(slice) out the first word of **`Python 4 Data Science`**.\n",
    "\n",
    "7. Check if **`Python 4 Data Science`** string contains a word **`Python`** using the method: **[index()](https://github.com/milaan9/02_Python_Datatypes/blob/main/002_Python_String_Methods/010_Python_String_index%28%29.ipynb)**, **[find()](https://github.com/milaan9/02_Python_Datatypes/blob/main/002_Python_String_Methods/008_Python_String_find%28%29.ipynb)** or other methods.\n",
    "\n",
    "8. Change **`Python 4 Data Science`** to **`Python 4 Everybody`** using the **[replace()](https://github.com/milaan9/02_Python_Datatypes/blob/main/002_Python_String_Methods/035_Python_String_replace%28%29.ipynb)** method or other methods.\n",
    "\n",
    "9. Split the string **`Python 4 Data Science`** using space as the separator (**[split()](https://github.com/milaan9/02_Python_Datatypes/blob/main/002_Python_String_Methods/038_Python_String_split%28%29.ipynb)**).\n",
    "\n",
    "11. **`Google, Facebook, Microsoft, Apple, IBM, Oracle, Amazon`** split the string at the comma.\n",
    "\n",
    "12. What is the character at index 9 in the string **`Python 4 Data Science`**.\n",
    "\n",
    "13. What is the second last index of the string **`Python 4 Data Science`**.\n",
    "\n",
    "14. Create an acronym or an abbreviation for the name **`Python 4 Data Science`**.\n",
    "\n",
    "15. Use **[index()](https://github.com/milaan9/02_Python_Datatypes/blob/main/002_Python_String_Methods/010_Python_String_index%28%29.ipynb)** to determine the position of the first occurrence of **`D`** in **`Python 4 Data Science`**.\n",
    "\n",
    "16. Use **[rfind](https://github.com/milaan9/02_Python_Datatypes/blob/main/002_Python_String_Methods/036_Python_String_rfind%28%29.ipynb)** to determine the position of the last occurrence of **`e`** in **`Python 4 Data Science`**.\n",
    "\n",
    "17. Use **[index()](https://github.com/milaan9/02_Python_Datatypes/blob/main/002_Python_String_Methods/010_Python_String_index%28%29.ipynb)** or **[find()](https://github.com/milaan9/02_Python_Datatypes/blob/main/002_Python_String_Methods/008_Python_String_find%28%29.ipynb)** to find the position of the first occurrence of the word **`because`** in the following sentence: \n",
    "\n",
    "    - **`We cannot end the sentence with 'because', because 'because' is a conjunction.`**.\n",
    "\n",
    "18. Use **[rindex](https://github.com/milaan9/02_Python_Datatypes/blob/main/002_Python_String_Methods/037_Python_String_rindex%28%29.ipynb)** to find the position of the first and last occurrence of the word **`because`** in the following sentence: \n",
    "\n",
    "    - **`We cannot end the sentence with 'because', because 'because' is a conjunction.`**.\n",
    "\n",
    "19. Slice out the phrase **`'because', because 'because'`** in the following sentence: \n",
    "\n",
    "    - **`We cannot end the sentence with 'because', because 'because' is a conjunction.`**.\n",
    "\n",
    "20. Does **`Python 4 Data Science`** start with a substring **`Python`**?\n",
    "\n",
    "21. Does '**`Python 4 Data Science`** contains with a substring **`Python`**?\n",
    "\n",
    "22. **`             Python 4 DataScience                                  `** remove the left and right trailing spaces in the given string.\n",
    "\n",
    "23. The following list contains the names of some of python libraries: **`['Django', 'Flask', 'Bottle', 'Pyramid', 'Falcon']`**. Join the list with a hash **` # `** with space string.\n",
    "\n",
    "24. Which one of the following variables return **`True`** when we use the method **[isidentifier()](https://github.com/milaan9/02_Python_Datatypes/blob/main/002_Python_String_Methods/015_Python_String_isidentifier%28%29.ipynb)**\n",
    "    - ```py\n",
    "    2021PythonDataypes\n",
    "    Python_Dataypes_2021\n",
    "    ```\n",
    "25. Make the following using string formatting methods:\n",
    "\n",
    "    - ```py\n",
    "8 + 6 = 14\n",
    "8 - 6 = 2\n",
    "8 * 6 = 48\n",
    "8 / 6 = 1.33\n",
    "8 % 6 = 2\n",
    "8 // 6 = 1\n",
    "8 ** 6 = 262144\n",
    "    ```\n",
    "\n",
    "26. Use a **new line** and **tab** escape sequence to print the following lines.\n",
    "    - ```py\n",
    "    Name      Age     Country   City\n",
    "    Milaan    96      Finland   Tampere\n",
    "    ```"
   ]
  },
  {
   "cell_type": "code",
   "execution_count": 45,
   "metadata": {},
   "outputs": [
    {
     "name": "stdout",
     "output_type": "stream",
     "text": [
      "Python 4 Data Science \n"
     ]
    }
   ],
   "source": [
    "# Solution: \n",
    "\n",
    "str1=\"Python\"+\" \"\n",
    "str2=\"4\"+\" \"\n",
    "str3=\"Data\"+\" \"\n",
    "str4=\"Science\"+\" \"\n",
    "str5=str1+str2+str3+str4\n",
    "print(str5)"
   ]
  },
  {
   "cell_type": "code",
   "execution_count": 48,
   "metadata": {},
   "outputs": [
    {
     "name": "stdout",
     "output_type": "stream",
     "text": [
      "Python 4 Data Science course\n"
     ]
    }
   ],
   "source": [
    "str01=\"course\"\n",
    "str5=str1+str2+str3+str4+str01\n",
    "print(str5)"
   ]
  },
  {
   "cell_type": "code",
   "execution_count": 50,
   "metadata": {},
   "outputs": [
    {
     "name": "stdout",
     "output_type": "stream",
     "text": [
      "6\n"
     ]
    }
   ],
   "source": [
    "str01=\"course\"\n",
    "print( len(str01) )  \n"
   ]
  },
  {
   "cell_type": "code",
   "execution_count": 61,
   "metadata": {},
   "outputs": [
    {
     "name": "stdout",
     "output_type": "stream",
     "text": [
      "TENCENT\n",
      "tencent\n"
     ]
    }
   ],
   "source": [
    "str = \"Tencent\"\n",
    "print (str.upper())\n",
    "str = \"Tencent\"\n",
    "print (str. lower())"
   ]
  },
  {
   "cell_type": "code",
   "execution_count": 66,
   "metadata": {},
   "outputs": [
    {
     "data": {
      "text/plain": [
       "'Python 4 data science'"
      ]
     },
     "execution_count": 66,
     "metadata": {},
     "output_type": "execute_result"
    }
   ],
   "source": [
    "s = 'Python 4 Data Science'\n",
    "s.capitalize()\n"
   ]
  },
  {
   "cell_type": "code",
   "execution_count": 67,
   "metadata": {},
   "outputs": [
    {
     "data": {
      "text/plain": [
       "'Python 4 Data Science'"
      ]
     },
     "execution_count": 67,
     "metadata": {},
     "output_type": "execute_result"
    }
   ],
   "source": [
    "s = 'Python 4 Data Science'\n",
    "s.title()"
   ]
  },
  {
   "cell_type": "code",
   "execution_count": 69,
   "metadata": {},
   "outputs": [
    {
     "data": {
      "text/plain": [
       "'pYTHON 4 dATA sCIENCE'"
      ]
     },
     "execution_count": 69,
     "metadata": {},
     "output_type": "execute_result"
    }
   ],
   "source": [
    "s = 'Python 4 Data Science'\n",
    "s.swapcase()"
   ]
  },
  {
   "cell_type": "code",
   "execution_count": 72,
   "metadata": {},
   "outputs": [
    {
     "name": "stdout",
     "output_type": "stream",
     "text": [
      "  4 Data Science\n"
     ]
    }
   ],
   "source": [
    "s = 'Python 4 Data Science'\n",
    "s2=s.replace(\"Python\",\" \")\n",
    "print(s2)"
   ]
  },
  {
   "cell_type": "code",
   "execution_count": 75,
   "metadata": {},
   "outputs": [
    {
     "name": "stdout",
     "output_type": "stream",
     "text": [
      "0\n"
     ]
    }
   ],
   "source": [
    "str1 = \"Python 4 Data Science\"\n",
    "str2=str1.index(\"Python\")\n",
    "print(str2)"
   ]
  },
  {
   "cell_type": "code",
   "execution_count": 77,
   "metadata": {},
   "outputs": [
    {
     "name": "stdout",
     "output_type": "stream",
     "text": [
      "0\n"
     ]
    }
   ],
   "source": [
    "str1 = \"Python 4 Data Science\"\n",
    "str2=str1.find(\"Python\")\n",
    "print(str2)"
   ]
  },
  {
   "cell_type": "code",
   "execution_count": 88,
   "metadata": {},
   "outputs": [
    {
     "name": "stdout",
     "output_type": "stream",
     "text": [
      "Python 4 Everybody \n"
     ]
    }
   ],
   "source": [
    "s = 'Python 4 Data Science'\n",
    "s2=s.replace('Data','Everybody').replace('Science','')\n",
    "print(s2)"
   ]
  },
  {
   "cell_type": "code",
   "execution_count": 93,
   "metadata": {},
   "outputs": [
    {
     "name": "stdout",
     "output_type": "stream",
     "text": [
      "['Python', '4', 'Data', 'Science']\n"
     ]
    }
   ],
   "source": [
    "s = 'Python 4 Data Science'\n",
    "s2=s.split()\n",
    "print(s2)"
   ]
  },
  {
   "cell_type": "code",
   "execution_count": 96,
   "metadata": {},
   "outputs": [
    {
     "name": "stdout",
     "output_type": "stream",
     "text": [
      "['Google', 'Facebook', 'Microsoft', 'Apple', 'IBM', 'Oracle', 'Amazon']\n"
     ]
    }
   ],
   "source": [
    "a=\"Google Facebook Microsoft Apple IBM Oracle Amazon\"\n",
    "b=a.split()\n",
    "print(b)"
   ]
  },
  {
   "cell_type": "code",
   "execution_count": 2,
   "metadata": {},
   "outputs": [
    {
     "name": "stdout",
     "output_type": "stream",
     "text": [
      "the character at index 9 of Python 4 Data Science is D\n"
     ]
    }
   ],
   "source": [
    "string=\"Python 4 Data Science\"\n",
    "print(\"the character at index 9 of\",string,\"is\",string[9])"
   ]
  },
  {
   "cell_type": "code",
   "execution_count": 3,
   "metadata": {},
   "outputs": [
    {
     "name": "stdout",
     "output_type": "stream",
     "text": [
      "the second last index of Python 4 Data Science is c\n"
     ]
    }
   ],
   "source": [
    "string=\"Python 4 Data Science\"\n",
    "print(\"the second last index of\",string,\"is\",string[-2])"
   ]
  },
  {
   "cell_type": "code",
   "execution_count": 4,
   "metadata": {},
   "outputs": [
    {
     "data": {
      "text/plain": [
       "['P', '4', 'D', 'S']"
      ]
     },
     "execution_count": 4,
     "metadata": {},
     "output_type": "execute_result"
    }
   ],
   "source": [
    "string=\"Python 4 Data Science\"\n",
    "[i[0] for i in string.split(\" \")]"
   ]
  },
  {
   "cell_type": "code",
   "execution_count": 5,
   "metadata": {},
   "outputs": [
    {
     "name": "stdout",
     "output_type": "stream",
     "text": [
      "9\n"
     ]
    }
   ],
   "source": [
    "str1 = \"Python 4 Data Science\"\n",
    "str2=str1.index(\"D\")\n",
    "print(str2)"
   ]
  },
  {
   "cell_type": "code",
   "execution_count": 7,
   "metadata": {},
   "outputs": [
    {
     "name": "stdout",
     "output_type": "stream",
     "text": [
      "20\n"
     ]
    }
   ],
   "source": [
    "str1 = \"Python 4 Data Science\"\n",
    "str2=str1.rfind(\"e\")\n",
    "print(str2)"
   ]
  },
  {
   "cell_type": "code",
   "execution_count": 12,
   "metadata": {},
   "outputs": [
    {
     "name": "stdout",
     "output_type": "stream",
     "text": [
      "33\n"
     ]
    }
   ],
   "source": [
    "str1 = \"We cannot end the sentence with 'because', because 'because' is a conjunction.\"\n",
    "str2=str1.index(\"because\")\n",
    "print(str2)"
   ]
  },
  {
   "cell_type": "code",
   "execution_count": 15,
   "metadata": {},
   "outputs": [
    {
     "name": "stdout",
     "output_type": "stream",
     "text": [
      "52\n"
     ]
    }
   ],
   "source": [
    "str1 = \"We cannot end the sentence with 'because', because 'because' is a conjunction.\"\n",
    "str2=str1.rindex(\"because\")\n",
    "print(str2)"
   ]
  },
  {
   "cell_type": "code",
   "execution_count": 24,
   "metadata": {},
   "outputs": [
    {
     "name": "stdout",
     "output_type": "stream",
     "text": [
      "'because', because 'because'\n"
     ]
    }
   ],
   "source": [
    "str1 = \"We cannot end the sentence with 'because', because 'because' is a conjunction.\"\n",
    "print(str1[32:60])\n"
   ]
  },
  {
   "cell_type": "code",
   "execution_count": 28,
   "metadata": {},
   "outputs": [
    {
     "name": "stdout",
     "output_type": "stream",
     "text": [
      "True\n"
     ]
    }
   ],
   "source": [
    "s = 'Python 4 Data Science'\n",
    "s2= s.startswith('Python')\n",
    "print(s2)"
   ]
  },
  {
   "cell_type": "code",
   "execution_count": 30,
   "metadata": {},
   "outputs": [
    {
     "data": {
      "text/plain": [
       "True"
      ]
     },
     "execution_count": 30,
     "metadata": {},
     "output_type": "execute_result"
    }
   ],
   "source": [
    "'Python'in'Python 4 Data Science'"
   ]
  },
  {
   "cell_type": "code",
   "execution_count": 32,
   "metadata": {},
   "outputs": [
    {
     "data": {
      "text/plain": [
       "'Python 4 Data Science'"
      ]
     },
     "execution_count": 32,
     "metadata": {},
     "output_type": "execute_result"
    }
   ],
   "source": [
    "s = 'Python 4 Data Science'\n",
    "s.strip()"
   ]
  },
  {
   "cell_type": "code",
   "execution_count": 35,
   "metadata": {},
   "outputs": [
    {
     "data": {
      "text/plain": [
       "'Django#Flask#Bottle#Pyramid#Falcon'"
      ]
     },
     "execution_count": 35,
     "metadata": {},
     "output_type": "execute_result"
    }
   ],
   "source": [
    "a=['Django', 'Flask', 'Bottle', 'Pyramid', 'Falcon']\n",
    "'#'.join(a)"
   ]
  },
  {
   "cell_type": "code",
   "execution_count": 37,
   "metadata": {},
   "outputs": [
    {
     "name": "stdout",
     "output_type": "stream",
     "text": [
      "False\n",
      "True\n"
     ]
    }
   ],
   "source": [
    "a= \"2021PythonDataypes\"\n",
    "b= a.isidentifier()\n",
    "print(b)\n",
    "c= \"Python_Dataypes_2021\"\n",
    "d= c.isidentifier()\n",
    "print(d)\n"
   ]
  },
  {
   "cell_type": "code",
   "execution_count": 64,
   "metadata": {},
   "outputs": [
    {
     "name": "stdout",
     "output_type": "stream",
     "text": [
      "m+n: 14 m-n: 2 m*n: 48 m/n: 1.3333333333333333 m % n : 2 m // n : 1 m ** n : 262144\n"
     ]
    }
   ],
   "source": [
    "m = 8\n",
    "n = 6\n",
    "sum1 = m + n\n",
    "sum2 = m - n\n",
    "sum3=m * n \n",
    "sum4=m / n\n",
    "sum5=m % n \n",
    "sum6=m // n \n",
    "sum7=m ** n \n",
    "print(\"m+n:\",sum1,\"m-n:\" ,sum2,\"m*n:\",sum3,\"m/n:\",sum4,\"m % n :\",sum5,\"m // n :\", sum6,\"m ** n :\",sum7)"
   ]
  },
  {
   "cell_type": "code",
   "execution_count": 66,
   "metadata": {},
   "outputs": [
    {
     "name": "stdout",
     "output_type": "stream",
     "text": [
      "Name\tAge\tCountry\tCity\n",
      "Milaan\t96\tFinland\tTampere\n"
     ]
    }
   ],
   "source": [
    "print(\"Name\\tAge\\tCountry\\tCity\")\n",
    "print(\"Milaan\\t96\\tFinland\\tTampere\")"
   ]
  },
  {
   "cell_type": "markdown",
   "metadata": {},
   "source": [
    "# Part C ➞ List <span class='label label-default'>Level 1 & 2</span>\n",
    "\n",
    ">**Note:** Please create new cell for each question"
   ]
  },
  {
   "cell_type": "markdown",
   "metadata": {},
   "source": [
    "# Part C ➞ <span class='label label-default'>Level 1</span>\n",
    ">**Note:** Please create new cell for each question\n",
    "\n",
    "1. Declare a list with more than 5 items with different data types\n",
    "2. Find the length of your list\n",
    "3. Get the first item, the middle item and the last item of the list\n",
    "4. Declare a list **`called my_info`**, put your (name, age, height, marital status, country)\n",
    "5. Declare a list variable named **`mix_fruits`** and assign initial values Guava, Mango, Apple, Pear, Fig, Orange and Banana and print the list.\n",
    "6. Print the list using **[print()](https://github.com/milaan9/04_Python_Functions/blob/main/002_Python_Functions_Built_in/051_Python_print%28%29.ipynb)**\n",
    "7. Print the number of **`mix_fruits`** in the list\n",
    "8. Print the first, middle and last fruit\n",
    "9. Print the list after modifying one of the fruit\n",
    "10. Add an fruit to variable **`mix_fruits`**\n",
    "11. Insert an fruit in the middle of the **`mix_fruits`** list\n",
    "12. Change one of the fruit names to uppercase\n",
    "13. Join the elements in **`mix_fruits`** with a string **`-#-`**\n",
    "14. Check if a certain fruit exists in the **`mix_fruits`** list.\n",
    "15. Sort the list using **[sort()](https://github.com/milaan9/02_Python_Datatypes/blob/main/003_Python_List_Methods/009_Python_List_sort%28%29.ipynb)** method\n",
    "16. Reverse the list in descending order using **[reverse()](https://github.com/milaan9/02_Python_Datatypes/blob/main/003_Python_List_Methods/008_Python_List_reverse%28%29.ipynb)** method\n",
    "17. Slice out the first 3 fruits from the list\n",
    "18. Slice out the last 3 fruits from the list\n",
    "19. Slice out the middle fruit or fruits from the list\n",
    "20. Remove the first fruit from the list\n",
    "21. Remove the middle fruit or companies from the list\n",
    "22. Remove the last fruit from the list\n",
    "23. Remove all fruits from the list\n",
    "24. Delete the fruits list\n",
    "25. Join the following lists:\n",
    "\n",
    "    - ```py\n",
    "    front_end = ['HTML', 'CSS', 'JS', 'React', 'Redux']\n",
    "    back_end = ['Node','Express', 'MongoDB']\n",
    "    ```\n",
    "\n",
    "26. After joining the lists in question 25. Copy the joined list and assign it to a variable full_stack. Then insert **`'Python'`** and **`'SQL'`** after **`'Redux'`**."
   ]
  },
  {
   "cell_type": "code",
   "execution_count": 87,
   "metadata": {},
   "outputs": [
    {
     "name": "stdout",
     "output_type": "stream",
     "text": [
      "['Chen', 20, 1.63, 'China', 'ChangChun']\n",
      "<class 'list'>\n"
     ]
    }
   ],
   "source": [
    "# Solution: \n",
    "a= [\"Chen\",20,1.63,\"China\",\"ChangChun\"]\n",
    "print(a)\n",
    "print(type(a))"
   ]
  },
  {
   "cell_type": "code",
   "execution_count": 91,
   "metadata": {},
   "outputs": [
    {
     "data": {
      "text/plain": [
       "5"
      ]
     },
     "execution_count": 91,
     "metadata": {},
     "output_type": "execute_result"
    }
   ],
   "source": [
    "a=[\"Chen\",20,1.63,\"China\",\"ChangChun\"]\n",
    "len(a)"
   ]
  },
  {
   "cell_type": "code",
   "execution_count": 93,
   "metadata": {},
   "outputs": [
    {
     "name": "stdout",
     "output_type": "stream",
     "text": [
      "Chen\n",
      "1.63\n",
      "ChangChun\n"
     ]
    }
   ],
   "source": [
    "a=[\"Chen\",20,1.63,\"China\",\"ChangChun\"]\n",
    "print(a[0])\n",
    "print(a[2])\n",
    "print(a[4])"
   ]
  },
  {
   "cell_type": "code",
   "execution_count": 31,
   "metadata": {},
   "outputs": [
    {
     "name": "stdout",
     "output_type": "stream",
     "text": [
      "['name', 'age', 'height', 'marital_status', 'country']\n"
     ]
    }
   ],
   "source": [
    "called_my_info=[\"name\",\"age\",\"height\",\"marital_status\",\"country\"]\n",
    "print(called_my_info)"
   ]
  },
  {
   "cell_type": "code",
   "execution_count": 106,
   "metadata": {},
   "outputs": [
    {
     "name": "stdout",
     "output_type": "stream",
     "text": [
      "[['Guava', 'Mango', 'Apple', 'Pear', 'Fig', 'Orange', 'Banana']]\n"
     ]
    }
   ],
   "source": [
    "value_list=[\"Guava\", \"Mango\", \"Apple\", \"Pear\", \"Fig\", \"Orange\",\"Banana\"]\n",
    "mix_fruits=[value_list]\n",
    "print(mix_fruits)"
   ]
  },
  {
   "cell_type": "code",
   "execution_count": 109,
   "metadata": {},
   "outputs": [
    {
     "name": "stdout",
     "output_type": "stream",
     "text": [
      "7\n"
     ]
    }
   ],
   "source": [
    "mix_fruits=[\"Guava\", \"Mango\", \"Apple\", \"Pear\", \"Fig\", \"Orange\",\"Banana\"]\n",
    "print(len(mix_fruits))"
   ]
  },
  {
   "cell_type": "code",
   "execution_count": 112,
   "metadata": {},
   "outputs": [
    {
     "name": "stdout",
     "output_type": "stream",
     "text": [
      "Guava\n",
      "Pear\n",
      "Banana\n"
     ]
    }
   ],
   "source": [
    "mix_fruits=[\"Guava\", \"Mango\", \"Apple\", \"Pear\", \"Fig\", \"Orange\",\"Banana\"]\n",
    "print(mix_fruits[0])\n",
    "print(mix_fruits[3])\n",
    "print(mix_fruits[6])"
   ]
  },
  {
   "cell_type": "code",
   "execution_count": 116,
   "metadata": {},
   "outputs": [
    {
     "name": "stdout",
     "output_type": "stream",
     "text": [
      "['Peach', 'Mango', 'Apple', 'Pear', 'Fig', 'Orange', 'Banana']\n"
     ]
    }
   ],
   "source": [
    "mix_fruits=[\"Guava\", \"Mango\", \"Apple\", \"Pear\", \"Fig\", \"Orange\",\"Banana\"]\n",
    "mix_fruits[0]=(\"Peach\")\n",
    "print(mix_fruits)"
   ]
  },
  {
   "cell_type": "code",
   "execution_count": 3,
   "metadata": {},
   "outputs": [
    {
     "name": "stdout",
     "output_type": "stream",
     "text": [
      "['Guava', 'Mango', 'Apple', 'Pear', 'Fig', 'Orange', 'Banana', 'Peach']\n"
     ]
    }
   ],
   "source": [
    "mix_fruits=[\"Guava\", \"Mango\", \"Apple\", \"Pear\", \"Fig\", \"Orange\",\"Banana\"]\n",
    "mix_fruits.append(\"Peach\")\n",
    "print(mix_fruits)"
   ]
  },
  {
   "cell_type": "code",
   "execution_count": 4,
   "metadata": {},
   "outputs": [
    {
     "name": "stdout",
     "output_type": "stream",
     "text": [
      "['Guava', 'Peach', 'Mango', 'Apple', 'Pear', 'Fig', 'Orange', 'Banana']\n"
     ]
    }
   ],
   "source": [
    "mix_fruits=[\"Guava\", \"Mango\", \"Apple\", \"Pear\", \"Fig\", \"Orange\",\"Banana\"]\n",
    "mix_fruits.insert(1,\"Peach\")\n",
    "print(mix_fruits)"
   ]
  },
  {
   "cell_type": "code",
   "execution_count": 8,
   "metadata": {},
   "outputs": [
    {
     "data": {
      "text/plain": [
       "['GUAVA']"
      ]
     },
     "execution_count": 8,
     "metadata": {},
     "output_type": "execute_result"
    }
   ],
   "source": [
    "mix_fruits=[\"Guava\", \"Mango\", \"Apple\", \"Pear\", \"Fig\", \"Orange\",\"Banana\"]\n",
    "[a.upper() for a in[\"Guava\"]]"
   ]
  },
  {
   "cell_type": "code",
   "execution_count": 18,
   "metadata": {},
   "outputs": [
    {
     "name": "stdout",
     "output_type": "stream",
     "text": [
      "Guava-#-Mango-#-Apple-#-Pear-#-Fig-#-Orange-#-Banana\n"
     ]
    }
   ],
   "source": [
    "str=\"-#-\";\n",
    "mix_fruits=(\"Guava\", \"Mango\", \"Apple\", \"Pear\", \"Fig\", \"Orange\",\"Banana\");\n",
    "print (str.join(mix_fruits))"
   ]
  },
  {
   "cell_type": "code",
   "execution_count": 30,
   "metadata": {},
   "outputs": [
    {
     "name": "stdout",
     "output_type": "stream",
     "text": [
      "True\n"
     ]
    }
   ],
   "source": [
    "mix_fruits=[\"Guava\", \"Mango\", \"Apple\", \"Pear\", \"Fig\", \"Orange\",\"Banana\"]\n",
    "if \"Mango\" in mix_fruits:\n",
    " print (\"True\")"
   ]
  },
  {
   "cell_type": "code",
   "execution_count": 33,
   "metadata": {},
   "outputs": [
    {
     "name": "stdout",
     "output_type": "stream",
     "text": [
      "['Apple', 'Banana', 'Fig', 'Guava', 'Mango', 'Orange', 'Pear']\n"
     ]
    }
   ],
   "source": [
    "mix_fruits=[\"Guava\", \"Mango\", \"Apple\", \"Pear\", \"Fig\", \"Orange\",\"Banana\"]\n",
    "mix_fruits.sort()\n",
    "print(mix_fruits)"
   ]
  },
  {
   "cell_type": "code",
   "execution_count": 38,
   "metadata": {},
   "outputs": [
    {
     "name": "stdout",
     "output_type": "stream",
     "text": [
      "['Banana', 'Orange', 'Fig', 'Pear', 'Apple', 'Mango', 'Guava']\n"
     ]
    }
   ],
   "source": [
    "mix_fruits=[\"Guava\", \"Mango\", \"Apple\", \"Pear\", \"Fig\", \"Orange\",\"Banana\"]\n",
    "mix_fruits.reverse()\n",
    "print(mix_fruits)"
   ]
  },
  {
   "cell_type": "code",
   "execution_count": 44,
   "metadata": {},
   "outputs": [
    {
     "name": "stdout",
     "output_type": "stream",
     "text": [
      "['Guava', 'Mango', 'Apple']\n"
     ]
    }
   ],
   "source": [
    "mix_fruits=[\"Guava\", \"Mango\", \"Apple\", \"Pear\", \"Fig\", \"Orange\",\"Banana\"]\n",
    "print(mix_fruits[:3])"
   ]
  },
  {
   "cell_type": "code",
   "execution_count": 48,
   "metadata": {},
   "outputs": [
    {
     "name": "stdout",
     "output_type": "stream",
     "text": [
      "['Fig', 'Orange', 'Banana']\n"
     ]
    }
   ],
   "source": [
    "mix_fruits=[\"Guava\", \"Mango\", \"Apple\", \"Pear\", \"Fig\", \"Orange\",\"Banana\"]\n",
    "print(mix_fruits[4:])"
   ]
  },
  {
   "cell_type": "code",
   "execution_count": 52,
   "metadata": {},
   "outputs": [
    {
     "name": "stdout",
     "output_type": "stream",
     "text": [
      "['Pear']\n"
     ]
    }
   ],
   "source": [
    "mix_fruits=[\"Guava\", \"Mango\", \"Apple\", \"Pear\", \"Fig\", \"Orange\",\"Banana\"]\n",
    "print(mix_fruits[3:4])"
   ]
  },
  {
   "cell_type": "code",
   "execution_count": 56,
   "metadata": {},
   "outputs": [
    {
     "name": "stdout",
     "output_type": "stream",
     "text": [
      "['Mango', 'Apple', 'Pear', 'Fig', 'Orange', 'Banana']\n"
     ]
    }
   ],
   "source": [
    "mix_fruits=[\"Guava\", \"Mango\", \"Apple\", \"Pear\", \"Fig\", \"Orange\",\"Banana\"]\n",
    "mix_fruits.remove(\"Guava\")\n",
    "print(mix_fruits)"
   ]
  },
  {
   "cell_type": "code",
   "execution_count": 57,
   "metadata": {},
   "outputs": [
    {
     "name": "stdout",
     "output_type": "stream",
     "text": [
      "['Guava', 'Mango', 'Apple', 'Fig', 'Orange', 'Banana']\n"
     ]
    }
   ],
   "source": [
    "mix_fruits=[\"Guava\", \"Mango\", \"Apple\", \"Pear\", \"Fig\", \"Orange\",\"Banana\"]\n",
    "mix_fruits.remove(\"Pear\")\n",
    "print(mix_fruits)"
   ]
  },
  {
   "cell_type": "code",
   "execution_count": 58,
   "metadata": {},
   "outputs": [
    {
     "name": "stdout",
     "output_type": "stream",
     "text": [
      "['Guava', 'Mango', 'Apple', 'Pear', 'Fig', 'Orange']\n"
     ]
    }
   ],
   "source": [
    "mix_fruits=[\"Guava\", \"Mango\", \"Apple\", \"Pear\", \"Fig\", \"Orange\",\"Banana\"]\n",
    "mix_fruits.pop()\n",
    "print(mix_fruits)"
   ]
  },
  {
   "cell_type": "code",
   "execution_count": 60,
   "metadata": {},
   "outputs": [
    {
     "name": "stdout",
     "output_type": "stream",
     "text": [
      "[]\n"
     ]
    }
   ],
   "source": [
    "mix_fruits=[\"Guava\", \"Mango\", \"Apple\", \"Pear\", \"Fig\", \"Orange\",\"Banana\"]\n",
    "mix_fruits.clear()\n",
    "print(mix_fruits)"
   ]
  },
  {
   "cell_type": "code",
   "execution_count": 65,
   "metadata": {},
   "outputs": [
    {
     "name": "stdout",
     "output_type": "stream",
     "text": [
      "[]\n"
     ]
    }
   ],
   "source": [
    "mix_fruits=[\"Guava\", \"Mango\", \"Apple\", \"Pear\", \"Fig\", \"Orange\",\"Banana\"]\n",
    "del mix_fruits[0:7]\n",
    "print(mix_fruits)"
   ]
  },
  {
   "cell_type": "code",
   "execution_count": 67,
   "metadata": {},
   "outputs": [
    {
     "name": "stdout",
     "output_type": "stream",
     "text": [
      "['HTML', 'CSS', 'JS', 'React', 'Redux', 'Node', 'Express', 'MongoDB']\n"
     ]
    }
   ],
   "source": [
    "front_end = ['HTML', 'CSS', 'JS', 'React', 'Redux']\n",
    "back_end = ['Node','Express', 'MongoDB']\n",
    "A=front_end +back_end \n",
    "print(A)"
   ]
  },
  {
   "cell_type": "code",
   "execution_count": 71,
   "metadata": {},
   "outputs": [
    {
     "name": "stdout",
     "output_type": "stream",
     "text": [
      "['HTML', 'CSS', 'JS', 'React', 'Redux', 'Python', 'SQL', 'Node', 'Express', 'MongoDB']\n"
     ]
    }
   ],
   "source": [
    "A=['HTML', 'CSS', 'JS', 'React', 'Redux','Node','Express', 'MongoDB']\n",
    "A.insert(5, 'Python')\n",
    "A.insert(6,'SQL')\n",
    "print(A)"
   ]
  },
  {
   "cell_type": "markdown",
   "metadata": {},
   "source": [
    "### Part C ➞ <span class='label label-default'>Level 2</span>\n",
    ">**Note:** Please create new cell for each question\n",
    "\n",
    "\n",
    "1. The following is a list of 10 students ages:\n",
    "\n",
    "    - ```py\n",
    "ages = [19, 23, 19, 25, 21, 20, 25, 26, 25, 24]\n",
    "    ```\n",
    "\n",
    "        - Sort the list and find the min and max age\n",
    "        - Add the min age and the max age again to the list\n",
    "        - Find the median age (one middle item or two middle items divided by two)\n",
    "        - Find the average age (sum of all items divided by their number )\n",
    "        - Find the range of the ages (max - min)\n",
    "        - Compare the value of (min - average) and (max - average), use **[abs()](https://github.com/milaan9/04_Python_Functions/blob/main/002_Python_Functions_Built_in/001_Python_abs%28%29.ipynb)** method\n",
    "\n",
    "2. **`['India', 'Russia', 'China', 'Finland', 'Sweden', 'Norway', 'Denmark']`**. Unpack the first three countries and the rest as scandic countries."
   ]
  },
  {
   "cell_type": "code",
   "execution_count": 5,
   "metadata": {},
   "outputs": [
    {
     "name": "stdout",
     "output_type": "stream",
     "text": [
      "[19, 19, 20, 21, 23, 24, 25, 25, 25, 26]\n",
      "19\n",
      "26\n"
     ]
    }
   ],
   "source": [
    "# Solution: \n",
    "ages = [19, 23, 19, 25, 21, 20, 25, 26, 25, 24]\n",
    "ages.sort()\n",
    "print(ages)\n",
    "print (min(ages))  \n",
    "print (max(ages))  \n"
   ]
  },
  {
   "cell_type": "code",
   "execution_count": 18,
   "metadata": {},
   "outputs": [
    {
     "name": "stdout",
     "output_type": "stream",
     "text": [
      "['19', 19, 23, 19, 25, 21, 20, 25, 26, 25, 24, '26']\n"
     ]
    }
   ],
   "source": [
    "ages = [19, 23, 19, 25, 21, 20, 25, 26, 25, 24]\n",
    "ages.insert(0,\"19\")\n",
    "ages.append(\"26\")\n",
    "print(ages)"
   ]
  },
  {
   "cell_type": "code",
   "execution_count": 32,
   "metadata": {},
   "outputs": [],
   "source": [
    "#Find the median age \n"
   ]
  },
  {
   "cell_type": "code",
   "execution_count": 64,
   "metadata": {},
   "outputs": [
    {
     "name": "stdout",
     "output_type": "stream",
     "text": [
      "22.7\n"
     ]
    }
   ],
   "source": [
    "ages = [19, 23, 19, 25, 21, 20, 25, 26, 25, 24]\n",
    "mean = sum(ages)/len(ages)\n",
    "print(mean)"
   ]
  },
  {
   "cell_type": "code",
   "execution_count": 19,
   "metadata": {},
   "outputs": [
    {
     "name": "stdout",
     "output_type": "stream",
     "text": [
      "19 26\n"
     ]
    }
   ],
   "source": [
    "max=ages[-1]\n",
    "min=ages[0]\n",
    "print(min,max)"
   ]
  },
  {
   "cell_type": "code",
   "execution_count": 76,
   "metadata": {},
   "outputs": [
    {
     "name": "stdout",
     "output_type": "stream",
     "text": [
      "3.7\n",
      "3.3\n"
     ]
    }
   ],
   "source": [
    "mina=abs(-3.7)\n",
    "maxa=abs(3.3)\n",
    "print(mina)\n",
    "print(maxa)"
   ]
  },
  {
   "cell_type": "code",
   "execution_count": 81,
   "metadata": {},
   "outputs": [
    {
     "name": "stdout",
     "output_type": "stream",
     "text": [
      "['India', 'Russia', 'China']\n",
      "scandic_countries: ['Finland', 'Sweden', 'Norway', 'Denmark']\n"
     ]
    }
   ],
   "source": [
    "scandic_countries=['India', 'Russia', 'China', 'Finland', 'Sweden', 'Norway', 'Denmark']\n",
    "print(scandic_countries[0:3])\n",
    "print(\"scandic_countries:\",scandic_countries[3:7])"
   ]
  },
  {
   "cell_type": "markdown",
   "metadata": {},
   "source": [
    "# Part D ➞ Tuple <span class='label label-default'>Level 1 & 2</span>\n",
    "\n",
    ">**Note:** Please create new cell for each question"
   ]
  },
  {
   "cell_type": "markdown",
   "metadata": {},
   "source": [
    "### Part D ➞ <span class='label label-default'>Level 1</span>\n",
    ">**Note:** Please create new cell for each question\n",
    "\n",
    "1. Create a tuple containing names of **`fruits`** and **`vegetables`**\n",
    "2. Join **`fruits`** and **`vegetables`** tuples and assign it to **`fruits_vegetables`**\n",
    "3. How many **`fruits_vegetables`** do you have?\n",
    "4. Modify the **`fruits_vegetables`** tuple and add the name of your favorite mushroom and beverage and assign it to **`food_tuple`**"
   ]
  },
  {
   "cell_type": "code",
   "execution_count": 5,
   "metadata": {},
   "outputs": [],
   "source": [
    "# Solution: \n",
    "fruits=(\"peach\")\n",
    "vegetables=(\"tomato\")"
   ]
  },
  {
   "cell_type": "code",
   "execution_count": 14,
   "metadata": {},
   "outputs": [
    {
     "name": "stdout",
     "output_type": "stream",
     "text": [
      "fruits_vegetables ('peach', 'tomato')\n"
     ]
    }
   ],
   "source": [
    "fruits=(\"peach\")\n",
    "vegetables=(\"tomato\")\n",
    "fruits_vegetables=(fruits,vegetables)\n",
    "print(\"fruits_vegetables\",fruits_vegetables)"
   ]
  },
  {
   "cell_type": "code",
   "execution_count": 15,
   "metadata": {},
   "outputs": [
    {
     "name": "stdout",
     "output_type": "stream",
     "text": [
      "2\n"
     ]
    }
   ],
   "source": [
    "fruits=(\"peach\")\n",
    "vegetables=(\"tomato\")\n",
    "fruits_vegetables=(fruits,vegetables)\n",
    "print(len(fruits_vegetables))"
   ]
  },
  {
   "cell_type": "code",
   "execution_count": 24,
   "metadata": {},
   "outputs": [
    {
     "ename": "SyntaxError",
     "evalue": "invalid syntax (<ipython-input-24-80977a13619b>, line 2)",
     "output_type": "error",
     "traceback": [
      "\u001b[1;36m  File \u001b[1;32m\"<ipython-input-24-80977a13619b>\"\u001b[1;36m, line \u001b[1;32m2\u001b[0m\n\u001b[1;33m    favorite mushroom=(\"needle mushroom\")\u001b[0m\n\u001b[1;37m             ^\u001b[0m\n\u001b[1;31mSyntaxError\u001b[0m\u001b[1;31m:\u001b[0m invalid syntax\n"
     ]
    }
   ],
   "source": [
    "fruits_vegetables=('peach', 'tomato', 'needle mushroom', 'orange juice')\n",
    "favorite mushroom=(\"needle mushroom\")\n",
    "beverage=(\"orange juice\")\n",
    "food_tuple=(fruits_vegetables,favorite mushroom,beverage)\n",
    "print(\"food_tuple\",food_tuple)"
   ]
  },
  {
   "cell_type": "markdown",
   "metadata": {},
   "source": [
    "### Part D ➞ <span class='label label-default'>Level 2</span>\n",
    ">**Note:** Please create new cell for each question\n",
    "\n",
    "1. Unpack **`fruits_vegetables`** and mushroom and beverage from **`food_tuple`**\n",
    "2. Change the about **`food_tuple`** tuple to a **`food_list`** list\n",
    "3. Slice out the middle item or items from the **`food_tuple`** tuple or **`food_list`** list.\n",
    "4. Slice out the first three items and the last three items from **`food_list`** list\n",
    "5. Delete the **`food_tuple`** tuple completely\n",
    "6. Check if an item exists in tuple:\n",
    "    - Check if **`'Finland'`** is a asian country\n",
    "    - Check if **`'India'`** is a asian country\n",
    "    ```python\n",
    "asian_countries = ('India','China','Singapore','Thailand','Indonesia')\n",
    "    ```"
   ]
  },
  {
   "cell_type": "code",
   "execution_count": 23,
   "metadata": {},
   "outputs": [
    {
     "name": "stdout",
     "output_type": "stream",
     "text": [
      "('peach', 'tomato', 'needle mushroom')\n"
     ]
    }
   ],
   "source": [
    "# Solution: \n",
    "fruits_vegetables=('peach', 'tomato', 'needle mushroom', 'orange juice')\n",
    "print(fruits_vegetables[0:3])"
   ]
  },
  {
   "cell_type": "code",
   "execution_count": 25,
   "metadata": {},
   "outputs": [
    {
     "name": "stdout",
     "output_type": "stream",
     "text": [
      "food_list: ['peach', 'tomato', 'needle mushroom', 'orange juice']\n",
      "<class 'list'>\n"
     ]
    }
   ],
   "source": [
    "food_tuple=('peach', 'tomato', 'needle mushroom', 'orange juice')\n",
    "food_list=list(food_tuple)\n",
    "print(\"food_list:\",food_list)\n",
    "print(type(food_list))"
   ]
  },
  {
   "cell_type": "code",
   "execution_count": 26,
   "metadata": {},
   "outputs": [
    {
     "data": {
      "text/plain": [
       "['tomato', 'needle mushroom']"
      ]
     },
     "execution_count": 26,
     "metadata": {},
     "output_type": "execute_result"
    }
   ],
   "source": [
    "food_list: ['peach', 'tomato', 'needle mushroom', 'orange juice']\n",
    "food_list[1:3]"
   ]
  },
  {
   "cell_type": "code",
   "execution_count": 27,
   "metadata": {},
   "outputs": [
    {
     "data": {
      "text/plain": [
       "['peach', 'tomato', 'needle mushroom']"
      ]
     },
     "execution_count": 27,
     "metadata": {},
     "output_type": "execute_result"
    }
   ],
   "source": [
    "food_list: ['peach', 'tomato', 'needle mushroom', 'orange juice']\n",
    "food_list[0:3]"
   ]
  },
  {
   "cell_type": "code",
   "execution_count": 28,
   "metadata": {},
   "outputs": [
    {
     "data": {
      "text/plain": [
       "['tomato', 'needle mushroom', 'orange juice']"
      ]
     },
     "execution_count": 28,
     "metadata": {},
     "output_type": "execute_result"
    }
   ],
   "source": [
    "food_list: ['peach', 'tomato', 'needle mushroom', 'orange juice']\n",
    "food_list[-3:]"
   ]
  },
  {
   "cell_type": "code",
   "execution_count": 22,
   "metadata": {},
   "outputs": [
    {
     "name": "stdout",
     "output_type": "stream",
     "text": [
      "[]\n"
     ]
    }
   ],
   "source": [
    "food_list=['peach', 'tomato', 'needle mushroom', 'orange juice']\n",
    "food_list.clear()\n",
    "print(food_list)"
   ]
  },
  {
   "cell_type": "code",
   "execution_count": 3,
   "metadata": {},
   "outputs": [
    {
     "name": "stdout",
     "output_type": "stream",
     "text": [
      "No, 'Finland' is  not a asian country\n"
     ]
    }
   ],
   "source": [
    "asian_countries = ('India','China','Singapore','Thailand','Indonesia')\n",
    "if 'Finland'not in asian_countries:\n",
    "    print(\"No, 'Finland' is  not a asian country\")"
   ]
  },
  {
   "cell_type": "code",
   "execution_count": 1,
   "metadata": {},
   "outputs": [
    {
     "name": "stdout",
     "output_type": "stream",
     "text": [
      "Yes, 'India' is a asian country\n"
     ]
    }
   ],
   "source": [
    "asian_countries = ('India','China','Singapore','Thailand','Indonesia')\n",
    "if 'India' in asian_countries:\n",
    "    print(\"Yes, 'India' is a asian country\")"
   ]
  },
  {
   "cell_type": "markdown",
   "metadata": {},
   "source": [
    "# Part E ➞ Sets <span class='label label-default'>Level 1, 2 and 3</span>\n",
    "\n",
    ">**Note:** Please create new cell for each question"
   ]
  },
  {
   "cell_type": "markdown",
   "metadata": {},
   "source": [
    "```py\n",
    "mix_fruits = {'Guava', 'Pear', 'Mango', 'Apple', 'Fig', 'Orange', 'Banana'}\n",
    "A = {19, 22, 24, 20, 25, 26}\n",
    "B = {19, 22, 20, 25, 26, 24, 28, 27}\n",
    "num = [22, 19, 24, 25, 26, 24, 25, 24]\n",
    "```\n",
    "\n",
    "### Part E ➞ <span class='label label-default'>Level 1</span>\n",
    ">**Note:** Please create new cell for each question\n",
    "\n",
    "1. Find the length of the set **`mix_fruits`**\n",
    "2. Add **`'Kiwi'`** to **`mix_fruits`**\n",
    "3. Insert multiple fruits at once to the set **`mix_fruits`**\n",
    "4. Remove one of the fruit from the set **`mix_fruits`**\n",
    "5. What is the difference between **remove** and **discard**"
   ]
  },
  {
   "cell_type": "code",
   "execution_count": 58,
   "metadata": {},
   "outputs": [
    {
     "name": "stdout",
     "output_type": "stream",
     "text": [
      "7\n"
     ]
    }
   ],
   "source": [
    "# Solution: \n",
    "mix_fruits = {'Guava', 'Pear', 'Mango', 'Apple', 'Fig', 'Orange', 'Banana'}\n",
    "print(len(mix_fruits))"
   ]
  },
  {
   "cell_type": "code",
   "execution_count": 60,
   "metadata": {},
   "outputs": [
    {
     "name": "stdout",
     "output_type": "stream",
     "text": [
      "{'Orange', 'Banana', 'Kiwi', 'Pear', 'Mango', 'Fig', 'Apple', 'Guava'}\n"
     ]
    }
   ],
   "source": [
    "mix_fruits = {'Guava', 'Pear', 'Mango', 'Apple', 'Fig', 'Orange', 'Banana'}\n",
    "mix_fruits.add('Kiwi')\n",
    "print(mix_fruits)"
   ]
  },
  {
   "cell_type": "code",
   "execution_count": 62,
   "metadata": {},
   "outputs": [
    {
     "name": "stdout",
     "output_type": "stream",
     "text": [
      "{'Orange', 'strawberry', 'Banana', 'watermelon', 'Pear', 'Mango', 'Fig', 'Apple', 'Guava', 'lemon'}\n"
     ]
    }
   ],
   "source": [
    "mix_fruits = {'Guava', 'Pear', 'Mango', 'Apple', 'Fig', 'Orange', 'Banana'}\n",
    "mix_fruits.update([\"watermelon\", \"lemon\", \"strawberry\"])\n",
    "print(mix_fruits)"
   ]
  },
  {
   "cell_type": "code",
   "execution_count": 64,
   "metadata": {},
   "outputs": [
    {
     "name": "stdout",
     "output_type": "stream",
     "text": [
      "{'Orange', 'Banana', 'Mango', 'Fig', 'Apple', 'Guava'}\n"
     ]
    }
   ],
   "source": [
    "mix_fruits = {'Guava', 'Pear', 'Mango', 'Apple', 'Fig', 'Orange', 'Banana'}\n",
    "mix_fruits.remove(\"Pear\")\n",
    "print(mix_fruits)"
   ]
  },
  {
   "cell_type": "code",
   "execution_count": null,
   "metadata": {},
   "outputs": [],
   "source": [
    "#If the item to be deleted does not exist,remove () raises an error.\n",
    "#If the item to be deleted does not exist,discard () does not raise an error."
   ]
  },
  {
   "cell_type": "markdown",
   "metadata": {},
   "source": [
    "### Part E ➞ <span class='label label-default'>Level 2</span>\n",
    ">**Note:** Please create new cell for each question\n",
    "\n",
    "Use Imaginary values for Set **`A`** and **`B`**\n",
    "\n",
    "1. Join **`A`** and **`B`**\n",
    "2. Find **`A`** intersection **`B`**\n",
    "3. Is **`A`** subset of **`B`**\n",
    "4. Are **`A`** and **`B`** disjoint sets\n",
    "5. Join **`A`** with **`B`** and **`B`** with **`A`**\n",
    "6. What is the symmetric difference between A and **`B`**\n",
    "7. Delete the sets completely"
   ]
  },
  {
   "cell_type": "code",
   "execution_count": 67,
   "metadata": {},
   "outputs": [
    {
     "name": "stdout",
     "output_type": "stream",
     "text": [
      "{19, 20, 22, 24, 25, 26, 27, 28}\n"
     ]
    }
   ],
   "source": [
    "# Solution: \n",
    "A = {19, 22, 24, 20, 25, 26}\n",
    "B = {19, 22, 20, 25, 26, 24, 28, 27}\n",
    "print(A|B)"
   ]
  },
  {
   "cell_type": "code",
   "execution_count": 69,
   "metadata": {},
   "outputs": [
    {
     "name": "stdout",
     "output_type": "stream",
     "text": [
      "{19, 20, 22, 24, 25, 26}\n"
     ]
    }
   ],
   "source": [
    "A = {19, 22, 24, 20, 25, 26}\n",
    "B = {19, 22, 20, 25, 26, 24, 28, 27}\n",
    "print(A&B)"
   ]
  },
  {
   "cell_type": "code",
   "execution_count": 71,
   "metadata": {},
   "outputs": [
    {
     "data": {
      "text/plain": [
       "True"
      ]
     },
     "execution_count": 71,
     "metadata": {},
     "output_type": "execute_result"
    }
   ],
   "source": [
    "A = {19, 22, 24, 20, 25, 26}\n",
    "B = {19, 22, 20, 25, 26, 24, 28, 27}\n",
    "A.issubset(B)"
   ]
  },
  {
   "cell_type": "code",
   "execution_count": 73,
   "metadata": {},
   "outputs": [
    {
     "data": {
      "text/plain": [
       "False"
      ]
     },
     "execution_count": 73,
     "metadata": {},
     "output_type": "execute_result"
    }
   ],
   "source": [
    "A = {19, 22, 24, 20, 25, 26}\n",
    "B = {19, 22, 20, 25, 26, 24, 28, 27}\n",
    "A.isdisjoint(B)"
   ]
  },
  {
   "cell_type": "code",
   "execution_count": 83,
   "metadata": {},
   "outputs": [
    {
     "name": "stdout",
     "output_type": "stream",
     "text": [
      "{19, 20, 22, 24, 25, 26, 27, 28}\n",
      "{19, 20, 22, 24, 25, 26, 27, 28}\n"
     ]
    }
   ],
   "source": [
    "A = {19, 22, 24, 20, 25, 26}\n",
    "B = {19, 22, 20, 25, 26, 24, 28, 27}\n",
    "C = A.union(B)\n",
    "print(C)\n",
    "\n",
    "A = {19, 22, 24, 20, 25, 26}\n",
    "B = {19, 22, 20, 25, 26, 24, 28, 27}\n",
    "D = B.union(A)\n",
    "print(D)"
   ]
  },
  {
   "cell_type": "code",
   "execution_count": 85,
   "metadata": {},
   "outputs": [
    {
     "name": "stdout",
     "output_type": "stream",
     "text": [
      "{27, 28}\n"
     ]
    }
   ],
   "source": [
    "A = {19, 22, 24, 20, 25, 26}\n",
    "B = {19, 22, 20, 25, 26, 24, 28, 27}\n",
    "E= A.symmetric_difference(B) \n",
    "print(E)"
   ]
  },
  {
   "cell_type": "code",
   "execution_count": 87,
   "metadata": {},
   "outputs": [
    {
     "name": "stdout",
     "output_type": "stream",
     "text": [
      "set()\n",
      "set()\n"
     ]
    }
   ],
   "source": [
    "A.clear()\n",
    "print(A)\n",
    "B.clear()\n",
    "print(B)"
   ]
  },
  {
   "cell_type": "markdown",
   "metadata": {},
   "source": [
    "### Part E ➞ <span class='label label-default'>Level 3</span>\n",
    ">**Note:** Please create new cell for each question\n",
    "\n",
    "1. Convert the **`num`** to a set and compare the length of the list and the set, which one is bigger?\n",
    "2. Explain the difference between the following data types: **string**, **list**, **tuple** and **set**\n",
    "3. **`I am a researcher cum teacher and I love to inspire and teach people.`**. How many unique words have been used in the sentence? Use the **`split`** methods and set to get the unique words."
   ]
  },
  {
   "cell_type": "code",
   "execution_count": 1,
   "metadata": {},
   "outputs": [
    {
     "name": "stdout",
     "output_type": "stream",
     "text": [
      "{19, 22, 24, 25, 26}\n",
      "[22, 19, 24, 25, 26, 24, 25, 24]\n",
      "<class 'set'>\n",
      "8\n",
      "5\n",
      "8\n"
     ]
    }
   ],
   "source": [
    "# Solution: \n",
    "num = [22, 19, 24, 25, 26, 24, 25, 24]\n",
    "s= set(num)\n",
    "print(s)\n",
    "c=list(num)\n",
    "print(c)\n",
    "print(type(s))\n",
    "print(len(num))\n",
    "print(len(s))\n",
    "print(len(c))"
   ]
  },
  {
   "cell_type": "code",
   "execution_count": 97,
   "metadata": {},
   "outputs": [],
   "source": [
    "#string：String cannot be changed\n",
    "#list:ordered collection, can add and subtract\n",
    "#tuple:ordered list, cannot be modified\n",
    "#set：unordered sets, keys do not repeat"
   ]
  },
  {
   "cell_type": "code",
   "execution_count": 2,
   "metadata": {},
   "outputs": [
    {
     "name": "stdout",
     "output_type": "stream",
     "text": [
      "['I', 'am', 'a', 'researcher', 'cum', 'teacher', 'and', 'I', 'love', 'to', 'inspire', 'and', 'teach', 'people.']\n",
      "14\n"
     ]
    }
   ],
   "source": [
    "a= \"I am a researcher cum teacher and I love to inspire and teach people.\"\n",
    "b= a.split()\n",
    "print(b)\n",
    "print(len(b))"
   ]
  },
  {
   "cell_type": "markdown",
   "metadata": {},
   "source": [
    "# Part F ➞ Dictionary <span class='label label-default'>Level 1</span>\n",
    "\n",
    ">**Note:** Please create new cell for each question"
   ]
  },
  {
   "cell_type": "markdown",
   "metadata": {},
   "source": [
    "1. Create an empty dictionary called **`bird`**\n",
    "2. Add **`name`**, **`color`**, **`breed`**, **`legs`**, **`age`** to the **`bird`** dictionary\n",
    "3. Create a **`student`** dictionary and add **`first_name`**, **`last_name`**, **`gender`**, **`age`**, **`marital_status`**, **`skills`**, **`country`**, **`city`** and **`address`** as keys for the dictionary\n",
    "3. Get the length of the **`student`** dictionary\n",
    "4. Get the value of **`skills`** and check the data type, it should be a list\n",
    "5. Modify the **`skills`** values by adding one or two skills\n",
    "6. Get the dictionary keys as a list\n",
    "7. Get the dictionary values as a list\n",
    "8. Change the dictionary to a list of tuples using **[items()](https://github.com/milaan9/02_Python_Datatypes/blob/main/005_Python_Dictionary_Methods/005_Python_Dictionary_items%28%29.ipynb)** method\n",
    "9. Delete one of the items in the dictionary\n",
    "10. Delete one of the dictionaries"
   ]
  },
  {
   "cell_type": "code",
   "execution_count": 22,
   "metadata": {},
   "outputs": [
    {
     "name": "stdout",
     "output_type": "stream",
     "text": [
      "{}\n",
      "{'name': 'bird', 'color': 'yellow', 'breed': 'cuckoo', 'legs': 2, 'age': 2}\n"
     ]
    }
   ],
   "source": [
    "# Solution:\n",
    "\n",
    "bird={}\n",
    "print(bird)\n",
    "bird={\"name\":\"bird\",\"color\":\"yellow\",\"breed\":\"cuckoo\",\"legs\":2,\"age\":2}\n",
    "print(bird)"
   ]
  },
  {
   "cell_type": "code",
   "execution_count": 24,
   "metadata": {},
   "outputs": [
    {
     "name": "stdout",
     "output_type": "stream",
     "text": [
      "{}\n",
      "{'first_name': 'Pengjia', 'last_name': 'Chen', 'gender': 'female', 'age': '20', 'marital_status': 'unmarried', 'skills': 'study', 'country': 'China', 'city': 'Changchun', 'address': 'JiLin'}\n"
     ]
    }
   ],
   "source": [
    "student={}\n",
    "print(student)\n",
    "student={\"first_name\":\"Pengjia\",\"last_name\":\"Chen\",\"gender\":\"female\",\"age\":\"20\",\"marital_status\":\"unmarried\",\"skills\":\"study\",\"country\":\"China\",\"city\":\"Changchun\",\"address\":\"JiLin\"}\n",
    "print(student)"
   ]
  },
  {
   "cell_type": "code",
   "execution_count": 27,
   "metadata": {},
   "outputs": [
    {
     "name": "stdout",
     "output_type": "stream",
     "text": [
      "9\n"
     ]
    }
   ],
   "source": [
    "print(len(student))"
   ]
  },
  {
   "cell_type": "code",
   "execution_count": 30,
   "metadata": {},
   "outputs": [
    {
     "name": "stdout",
     "output_type": "stream",
     "text": [
      "<class 'list'>\n"
     ]
    }
   ],
   "source": [
    "skills=[]\n",
    "print(type(skills))"
   ]
  },
  {
   "cell_type": "code",
   "execution_count": 32,
   "metadata": {},
   "outputs": [
    {
     "name": "stdout",
     "output_type": "stream",
     "text": [
      "['study', 'sleep']\n"
     ]
    }
   ],
   "source": [
    "skill1,skill2=[\"study\"],[\"sleep\"]\n",
    "skill=skill1+skill2\n",
    "print(skill)"
   ]
  },
  {
   "cell_type": "code",
   "execution_count": 34,
   "metadata": {},
   "outputs": [],
   "source": [
    "key_list=[\"first_name\",\"last_name\",\"gender\",\"age\",\"marital_status\",\"skills\",\"country\",\"city\",\"address\"]"
   ]
  },
  {
   "cell_type": "code",
   "execution_count": 35,
   "metadata": {},
   "outputs": [],
   "source": [
    "value_list=[\"Pengjia\",\"Chen\",\"female\",\"20\",\"unmarried\",\"study\",\"China\",\"Changchun\",\"JiLin\"]"
   ]
  },
  {
   "cell_type": "code",
   "execution_count": 56,
   "metadata": {},
   "outputs": [
    {
     "name": "stdout",
     "output_type": "stream",
     "text": [
      "dict_items([('first_name', 'Pengjia'), ('last_name', 'Chen'), ('gender', 'female'), ('age', '20'), ('marital_status', 'unmarried'), ('skills', 'study'), ('country', 'China'), ('city', 'Changchun'), ('address', 'JiLin')])\n",
      "<class 'dict_items'>\n"
     ]
    }
   ],
   "source": [
    "student={\"first_name\":\"Pengjia\",\"last_name\":\"Chen\",\"gender\":\"female\",\"age\":\"20\",\"marital_status\":\"unmarried\",\"skills\":\"study\",\"country\":\"China\",\"city\":\"Changchun\",\"address\":\"JiLin\"}\n",
    "s=student.items()\n",
    "print(s)\n",
    "print(type(s))"
   ]
  },
  {
   "cell_type": "code",
   "execution_count": 52,
   "metadata": {},
   "outputs": [
    {
     "name": "stdout",
     "output_type": "stream",
     "text": [
      "('address', 'JiLin')\n"
     ]
    }
   ],
   "source": [
    "student={\"first_name\":\"Pengjia\",\"last_name\":\"Chen\",\"gender\":\"female\",\"age\":\"20\",\"marital_status\":\"unmarried\",\"skills\":\"study\",\"country\":\"China\",\"city\":\"Changchun\",\"address\":\"JiLin\"}\n",
    "pop_obj=student.popitem()\n",
    "print(pop_obj)"
   ]
  },
  {
   "cell_type": "code",
   "execution_count": 54,
   "metadata": {},
   "outputs": [],
   "source": [
    "student={\"first_name\":\"Pengjia\",\"last_name\":\"Chen\",\"gender\":\"female\",\"age\":\"20\",\"marital_status\":\"unmarried\",\"skills\":\"study\",\"country\":\"China\",\"city\":\"Changchun\",\"address\":\"JiLin\"}\n",
    "student.clear();"
   ]
  }
 ],
 "metadata": {
  "hide_input": false,
  "kernelspec": {
   "display_name": "Python 3",
   "language": "python",
   "name": "python3"
  },
  "language_info": {
   "codemirror_mode": {
    "name": "ipython",
    "version": 3
   },
   "file_extension": ".py",
   "mimetype": "text/x-python",
   "name": "python",
   "nbconvert_exporter": "python",
   "pygments_lexer": "ipython3",
   "version": "3.8.8"
  },
  "toc": {
   "base_numbering": 1,
   "nav_menu": {},
   "number_sections": true,
   "sideBar": true,
   "skip_h1_title": false,
   "title_cell": "Table of Contents",
   "title_sidebar": "Contents",
   "toc_cell": false,
   "toc_position": {},
   "toc_section_display": true,
   "toc_window_display": false
  },
  "varInspector": {
   "cols": {
    "lenName": 16,
    "lenType": 16,
    "lenVar": 40
   },
   "kernels_config": {
    "python": {
     "delete_cmd_postfix": "",
     "delete_cmd_prefix": "del ",
     "library": "var_list.py",
     "varRefreshCmd": "print(var_dic_list())"
    },
    "r": {
     "delete_cmd_postfix": ") ",
     "delete_cmd_prefix": "rm(",
     "library": "var_list.r",
     "varRefreshCmd": "cat(var_dic_list()) "
    }
   },
   "types_to_exclude": [
    "module",
    "function",
    "builtin_function_or_method",
    "instance",
    "_Feature"
   ],
   "window_display": false
  }
 },
 "nbformat": 4,
 "nbformat_minor": 2
}
